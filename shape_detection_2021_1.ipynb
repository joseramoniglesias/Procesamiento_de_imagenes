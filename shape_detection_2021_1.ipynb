{
  "nbformat": 4,
  "nbformat_minor": 0,
  "metadata": {
    "colab": {
      "name": "shape_detection_2021_1.ipynb",
      "provenance": [],
      "collapsed_sections": [],
      "include_colab_link": true
    },
    "kernelspec": {
      "display_name": "Python 3",
      "language": "python",
      "name": "python3"
    },
    "language_info": {
      "codemirror_mode": {
        "name": "ipython",
        "version": 3
      },
      "file_extension": ".py",
      "mimetype": "text/x-python",
      "name": "python",
      "nbconvert_exporter": "python",
      "pygments_lexer": "ipython3",
      "version": "3.8.5"
    }
  },
  "cells": [
    {
      "cell_type": "markdown",
      "metadata": {
        "id": "view-in-github",
        "colab_type": "text"
      },
      "source": [
        "<a href=\"https://colab.research.google.com/github/joseramoniglesias/Procesamiento_de_imagenes/blob/master/shape_detection_2021_1.ipynb\" target=\"_parent\"><img src=\"https://colab.research.google.com/assets/colab-badge.svg\" alt=\"Open In Colab\"/></a>"
      ]
    },
    {
      "cell_type": "markdown",
      "metadata": {
        "id": "j4RpK9pawQzP"
      },
      "source": [
        "# OpenCV detección de formas (shape detection)\n",
        "### Por Prof: José Ramón Iglesias"
      ]
    },
    {
      "cell_type": "markdown",
      "metadata": {
        "id": "NFhAzQB3aNMa"
      },
      "source": [
        "### Download the code zip file"
      ]
    },
    {
      "cell_type": "code",
      "metadata": {
        "id": "7y0LG1EuaRlB"
      },
      "source": [
        "!wget https://www.pyimagesearch.com/wp-content/uploads/2016/01/shape-detection.zip\n",
        "!unzip -qq shape-detection.zip\n",
        "%cd shape-detection"
      ],
      "execution_count": null,
      "outputs": []
    },
    {
      "cell_type": "markdown",
      "metadata": {
        "id": "_SgTVT3HagGZ"
      },
      "source": [
        "## Code"
      ]
    },
    {
      "cell_type": "markdown",
      "metadata": {
        "id": "wcrOk6pURp50"
      },
      "source": [
        "### Import Packages"
      ]
    },
    {
      "cell_type": "code",
      "metadata": {
        "id": "VJaCNlDDRz6d"
      },
      "source": [
        "# import the necessary packages\n",
        "from matplotlib import pyplot as plt\n",
        "import argparse\n",
        "import imutils\n",
        "import cv2"
      ],
      "execution_count": null,
      "outputs": []
    },
    {
      "cell_type": "markdown",
      "metadata": {
        "id": "lBrLwCtN5kqy"
      },
      "source": [
        "### Function to display images in Jupyter Notebooks and Google Colab"
      ]
    },
    {
      "cell_type": "code",
      "metadata": {
        "id": "fRw969Dp5Kdm"
      },
      "source": [
        "def plt_imshow(title, image):\n",
        "\t# convert the image frame BGR to RGB color space and display it\n",
        "\timage = cv2.cvtColor(image, cv2.COLOR_BGR2RGB)\n",
        "\tplt.imshow(image)\n",
        "\tplt.title(title)\n",
        "\tplt.grid(False)\n",
        "\tplt.show()"
      ],
      "execution_count": null,
      "outputs": []
    },
    {
      "cell_type": "markdown",
      "metadata": {
        "id": "dfM98A8_RzQa"
      },
      "source": [
        "### Defining our shape detector"
      ]
    },
    {
      "cell_type": "code",
      "metadata": {
        "id": "QNNVbR3IvVlh"
      },
      "source": [
        "class ShapeDetector:\n",
        "\tdef __init__(self):\n",
        "\t\tpass\n",
        "\n",
        "\tdef detect(self, c):\n",
        "\t\t# initialize the shape name and approximate the contour\n",
        "\t\tshape = \"unidentified\"\n",
        "\t\tperi = cv2.arcLength(c, True)\n",
        "\t\tapprox = cv2.approxPolyDP(c, 0.04 * peri, True)\n",
        "\n",
        "\t\t# if the shape is a triangle, it will have 3 vertices\n",
        "\t\tif len(approx) == 3:\n",
        "\t\t\tshape = \"triangle\"\n",
        "\n",
        "\t\t# if the shape has 4 vertices, it is either a square or\n",
        "\t\t# a rectangle\n",
        "\t\telif len(approx) == 4:\n",
        "\t\t\t# compute the bounding box of the contour and use the\n",
        "\t\t\t# bounding box to compute the aspect ratio\n",
        "\t\t\t(x, y, w, h) = cv2.boundingRect(approx)\n",
        "\t\t\tar = w / float(h)\n",
        "\n",
        "\t\t\t# a square will have an aspect ratio that is approximately\n",
        "\t\t\t# equal to one, otherwise, the shape is a rectangle\n",
        "\t\t\tshape = \"square\" if ar >= 0.95 and ar <= 1.05 else \"rectangle\"\n",
        "\n",
        "\t\t# if the shape is a pentagon, it will have 5 vertices\n",
        "\t\telif len(approx) == 5:\n",
        "\t\t\tshape = \"pentagon\"\n",
        "\n",
        "\t\t# otherwise, we assume the shape is a circle\n",
        "\t\telse:\n",
        "\t\t\tshape = \"circle\"\n",
        "\n",
        "\t\t# return the name of the shape\n",
        "\t\treturn shape"
      ],
      "execution_count": null,
      "outputs": []
    },
    {
      "cell_type": "markdown",
      "metadata": {
        "id": "qqu1orxcR2tl"
      },
      "source": [
        "### Shape detection with OpenCV"
      ]
    },
    {
      "cell_type": "code",
      "metadata": {
        "id": "okM7Bpyeq8Kc"
      },
      "source": [
        "# construct the argument parser and parse the arguments\n",
        "# ap = argparse.ArgumentParser()\n",
        "# ap.add_argument(\"-i\", \"--image\", required=True,\n",
        "# \thelp=\"path to the input image\")\n",
        "# args = vars(ap.parse_args())\n",
        "\n",
        "# since we are using Jupyter Notebooks we can replace our argument\n",
        "# parsing code with *hard coded* arguments and values\n",
        "args = {\n",
        "\t\"image\": \"shapes_and_colors.png\"\n",
        "}"
      ],
      "execution_count": null,
      "outputs": []
    },
    {
      "cell_type": "code",
      "metadata": {
        "id": "xx5gVeWGvkEg"
      },
      "source": [
        "# load the image and resize it to a smaller factor so that\n",
        "# the shapes can be approximated better\n",
        "image = cv2.imread(args[\"image\"])\n",
        "resized = imutils.resize(image, width=300)\n",
        "ratio = image.shape[0] / float(resized.shape[0])\n",
        "\n",
        "# convert the resized image to grayscale, blur it slightly,\n",
        "# and threshold it\n",
        "gray = cv2.cvtColor(resized, cv2.COLOR_BGR2GRAY)\n",
        "blurred = cv2.GaussianBlur(gray, (5, 5), 0)\n",
        "thresh = cv2.threshold(blurred, 60, 255, cv2.THRESH_BINARY)[1]\n",
        "\n",
        "# find contours in the thresholded image and initialize the\n",
        "# shape detector\n",
        "cnts = cv2.findContours(thresh.copy(), cv2.RETR_EXTERNAL,\n",
        "\tcv2.CHAIN_APPROX_SIMPLE)\n",
        "cnts = imutils.grab_contours(cnts)\n",
        "sd = ShapeDetector()"
      ],
      "execution_count": null,
      "outputs": []
    },
    {
      "cell_type": "code",
      "metadata": {
        "id": "KuJE3DcUvkCt"
      },
      "source": [
        "# loop over the contours\n",
        "for c in cnts:\n",
        "\t# compute the center of the contour, then detect the name of the\n",
        "\t# shape using only the contour\n",
        "\tM = cv2.moments(c)\n",
        "\tcX = int((M[\"m10\"] / M[\"m00\"]) * ratio)\n",
        "\tcY = int((M[\"m01\"] / M[\"m00\"]) * ratio)\n",
        "\tshape = sd.detect(c)\n",
        "\n",
        "\t# multiply the contour (x, y)-coordinates by the resize ratio,\n",
        "\t# then draw the contours and the name of the shape on the image\n",
        "\tc = c.astype(\"float\")\n",
        "\tc *= ratio\n",
        "\tc = c.astype(\"int\")\n",
        "\tcv2.drawContours(image, [c], -1, (0, 255, 0), 2)\n",
        "\tcv2.putText(image, shape, (cX, cY), cv2.FONT_HERSHEY_SIMPLEX,\n",
        "\t\t0.5, (255, 255, 255), 2)\n",
        "\n",
        "\t# show the output image\n",
        "\tplt_imshow(\"Image\", image)"
      ],
      "execution_count": null,
      "outputs": []
    }
  ]
}